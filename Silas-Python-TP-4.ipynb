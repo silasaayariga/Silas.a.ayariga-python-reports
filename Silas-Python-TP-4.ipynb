{
 "cells": [
  {
   "cell_type": "markdown",
   "id": "d68c1dee",
   "metadata": {
    "id": "d68c1dee"
   },
   "source": [
    "# Practical_4: Flow control"
   ]
  },
  {
   "cell_type": "markdown",
   "id": "b61f90d8",
   "metadata": {
    "id": "bea983a3"
   },
   "source": [
    "---\n",
    "\n",
    "### Exercise 1:\n",
    "Write a Python program that checks if a number is positive or negative.\n",
    "\n",
    "```python\n",
    "# Exercise 1\n",
    "```\n",
    "\n",
    "---"
   ]
  },
  {
   "cell_type": "code",
   "execution_count": 1,
   "id": "57832966",
   "metadata": {},
   "outputs": [
    {
     "name": "stdout",
     "output_type": "stream",
     "text": [
      "Enter a number: 234\n",
      "Positive\n"
     ]
    }
   ],
   "source": [
    "num = float(input(\"Enter a number: \"))\n",
    "if num > 0:\n",
    "    print(\"Positive\")\n",
    "elif num < 0:\n",
    "    print(\"Negative\")\n",
    "else:\n",
    "    print(\"Zero\")"
   ]
  },
  {
   "cell_type": "markdown",
   "id": "5ed24fff",
   "metadata": {
    "id": "bea983a3"
   },
   "source": [
    "### Exercise 2:\n",
    "Write a Python function that checks if a string starts with a vowel.\n",
    "\n",
    "```python\n",
    "# Exercise 2\n",
    "```\n",
    "\n",
    "---"
   ]
  },
  {
   "cell_type": "code",
   "execution_count": 7,
   "id": "1d9f739e",
   "metadata": {},
   "outputs": [
    {
     "data": {
      "text/plain": [
       "True"
      ]
     },
     "execution_count": 7,
     "metadata": {},
     "output_type": "execute_result"
    }
   ],
   "source": [
    "def starts_with_vowel(s):\n",
    "    vowels = \"aeiouAEIOU\"\n",
    "    return bool(s) and s[0] in vowels\n",
    "starts_with_vowel(\"Alright\")"
   ]
  },
  {
   "cell_type": "markdown",
   "id": "90757e4d",
   "metadata": {
    "id": "bea983a3"
   },
   "source": [
    "### Exercise 3:\n",
    "Write a Python program that takes a list of integers and prints \"Even\" for each even number and \"Odd\" for each odd number.\n",
    "\n",
    "```python\n",
    "# Exercise 3\n",
    "```\n",
    "\n",
    "---"
   ]
  },
  {
   "cell_type": "code",
   "execution_count": 3,
   "id": "2f62bb98",
   "metadata": {},
   "outputs": [
    {
     "name": "stdout",
     "output_type": "stream",
     "text": [
      "Odd\n",
      "Even\n",
      "Odd\n",
      "Even\n",
      "Odd\n"
     ]
    }
   ],
   "source": [
    "numbers = [1, 2, 3, 4, 5]  # Example list\n",
    "for num in numbers:\n",
    "    if num % 2 == 0:\n",
    "        print(\"Even\")\n",
    "    else:\n",
    "        print(\"Odd\")"
   ]
  },
  {
   "cell_type": "markdown",
   "id": "6ec415eb",
   "metadata": {
    "id": "bea983a3"
   },
   "source": [
    "### Exercise 4:\n",
    "Write a Python program that checks if a given year is a leap year.\n",
    "\n",
    "```python\n",
    "# Exercise 4\n",
    "```\n",
    "\n",
    "---"
   ]
  },
  {
   "cell_type": "code",
   "execution_count": 10,
   "id": "b80c26a0",
   "metadata": {},
   "outputs": [
    {
     "name": "stdout",
     "output_type": "stream",
     "text": [
      "Enter a year: 2025\n",
      "Not a leap year\n"
     ]
    }
   ],
   "source": [
    "year = int(input(\"Enter a year: \"))\n",
    "if (year % 4 == 0 and year % 100 != 0) or (year % 400 == 0):\n",
    "    print(\"Leap year\")\n",
    "else:\n",
    "    print(\"Not a leap year\")"
   ]
  },
  {
   "cell_type": "markdown",
   "id": "fdc5d1f4",
   "metadata": {
    "id": "bea983a3"
   },
   "source": [
    "### Exercise 5:\n",
    "Write a Python function that checks if a number is divisible by both 3 and 5.\n",
    "\n",
    "```python\n",
    "# Exercise 5\n",
    "```\n",
    "\n",
    "---"
   ]
  },
  {
   "cell_type": "code",
   "execution_count": 11,
   "id": "076211bc",
   "metadata": {},
   "outputs": [],
   "source": [
    "def divisible_by_3_and_5(num):\n",
    "    return num % 3 == 0 and num % 5 == 0"
   ]
  },
  {
   "cell_type": "markdown",
   "id": "9e8d34b9",
   "metadata": {
    "id": "bea983a3"
   },
   "source": [
    "### Exercise 6:\n",
    "Write a Python program that prints \"Hot\" if the temperature is above 30, \"Warm\" if it is between 15 and 30, and \"Cold\" if it is below 15.\n",
    "\n",
    "```python\n",
    "# Exercise 6\n",
    "```\n",
    "\n",
    "---"
   ]
  },
  {
   "cell_type": "code",
   "execution_count": 12,
   "id": "248576d4",
   "metadata": {},
   "outputs": [
    {
     "name": "stdout",
     "output_type": "stream",
     "text": [
      "Enter temperature: 12\n",
      "Cold\n"
     ]
    }
   ],
   "source": [
    "temp = float(input(\"Enter temperature: \"))\n",
    "if temp > 30:\n",
    "    print(\"Hot\")\n",
    "elif 15 <= temp <= 30:\n",
    "    print(\"Warm\")\n",
    "else:\n",
    "    print(\"Cold\")"
   ]
  },
  {
   "cell_type": "markdown",
   "id": "3849fc62",
   "metadata": {
    "id": "bea983a3"
   },
   "source": [
    "### Exercise 7:\n",
    "Write a Python program that checks if a string contains the letter 'a'.\n",
    "\n",
    "```python\n",
    "# Exercise 7\n",
    "```\n",
    "\n",
    "---"
   ]
  },
  {
   "cell_type": "code",
   "execution_count": null,
   "id": "dbfe27cd",
   "metadata": {},
   "outputs": [],
   "source": [
    "s = input(\"Enter a string: \")\n",
    "if 'a' in s:\n",
    "    print(\"Contains 'a'\")\n",
    "else:\n",
    "    print(\"Does not contain 'a'\")"
   ]
  },
  {
   "cell_type": "markdown",
   "id": "7aa11b7a",
   "metadata": {
    "id": "bea983a3"
   },
   "source": [
    "### Exercise 8:\n",
    "Write a Python function that checks if two numbers are equal, or which one is larger.\n",
    "\n",
    "```python\n",
    "# Exercise 8\n",
    "```\n",
    "\n",
    "---"
   ]
  },
  {
   "cell_type": "code",
   "execution_count": null,
   "id": "a3cf32ee",
   "metadata": {},
   "outputs": [],
   "source": [
    "def compare_numbers(a, b):\n",
    "    if a == b:\n",
    "        return \"Equal\"\n",
    "    elif a > b:\n",
    "        return f\"{a} is larger\"\n",
    "    else:\n",
    "        return f\"{b} is larger\"\n"
   ]
  },
  {
   "cell_type": "markdown",
   "id": "d6948459",
   "metadata": {
    "id": "bea983a3"
   },
   "source": [
    "### Exercise 9:\n",
    "Write a Python program that checks if a list is empty.\n",
    "\n",
    "```python\n",
    "# Exercise 9\n",
    "```\n",
    "\n",
    "---"
   ]
  },
  {
   "cell_type": "code",
   "execution_count": null,
   "id": "ef6f4ccd",
   "metadata": {},
   "outputs": [],
   "source": [
    "my_list = []  # Example\n",
    "if not my_list:\n",
    "    print(\"Empty\")\n",
    "else:\n",
    "    print(\"Not empty\")"
   ]
  },
  {
   "cell_type": "markdown",
   "id": "46a7ef8e",
   "metadata": {
    "id": "bea983a3"
   },
   "source": [
    "### Exercise 10:\n",
    "Write a Python function that takes two strings and checks if they are anagrams.\n",
    "\n",
    "```python\n",
    "# Exercise 10\n",
    "```\n",
    "\n",
    "---"
   ]
  },
  {
   "cell_type": "code",
   "execution_count": null,
   "id": "c09aa0fa",
   "metadata": {},
   "outputs": [],
   "source": [
    "def are_anagrams(s1, s2):\n",
    "    return sorted(s1) == sorted(s2)"
   ]
  },
  {
   "cell_type": "markdown",
   "id": "8271c709",
   "metadata": {
    "id": "bea983a3"
   },
   "source": [
    "### Exercise 11:\n",
    "Write a Python program that checks if a number is prime.\n",
    "\n",
    "```python\n",
    "# Exercise 11\n",
    "```\n",
    "\n",
    "---"
   ]
  },
  {
   "cell_type": "code",
   "execution_count": null,
   "id": "b09eb431",
   "metadata": {},
   "outputs": [],
   "source": [
    "num = int(input(\"Enter a number: \"))\n",
    "if num > 1:\n",
    "    for i in range(2, int(num**0.5) + 1):\n",
    "        if num % i == 0:\n",
    "            print(\"Not prime\")\n",
    "            break\n",
    "    else:\n",
    "        print(\"Prime\")\n",
    "else:\n",
    "    print(\"Not prime\")"
   ]
  },
  {
   "cell_type": "markdown",
   "id": "196c7788",
   "metadata": {
    "id": "bea983a3"
   },
   "source": [
    "### Exercise 12:\n",
    "Write a Python program that checks if a list of numbers is sorted in ascending order.\n",
    "\n",
    "```python\n",
    "# Exercise 12\n",
    "```\n",
    "\n",
    "---"
   ]
  },
  {
   "cell_type": "code",
   "execution_count": null,
   "id": "ab355ab8",
   "metadata": {},
   "outputs": [],
   "source": [
    "numbers = [1, 2, 3, 4]  # Example\n",
    "if numbers == sorted(numbers):\n",
    "    print(\"Sorted in ascending order\")\n",
    "else:\n",
    "    print(\"Not sorted\")"
   ]
  },
  {
   "cell_type": "markdown",
   "id": "c6c2ed0c",
   "metadata": {
    "id": "bea983a3"
   },
   "source": [
    "### Exercise 13:\n",
    "Write a Python function that takes a character and checks if it is a digit.\n",
    "\n",
    "```python\n",
    "# Exercise 13\n",
    "```\n",
    "\n",
    "---"
   ]
  },
  {
   "cell_type": "code",
   "execution_count": null,
   "id": "93c97cb8",
   "metadata": {},
   "outputs": [],
   "source": [
    "def is_digit(c):\n",
    "    return c.isdigit()"
   ]
  },
  {
   "cell_type": "markdown",
   "id": "8ccc4b20",
   "metadata": {
    "id": "bea983a3"
   },
   "source": [
    "### Exercise 14:\n",
    "Write a Python function that checks if a string contains only uppercase letters.\n",
    "\n",
    "```python\n",
    "# Exercise 14\n",
    "```\n",
    "\n",
    "---"
   ]
  },
  {
   "cell_type": "code",
   "execution_count": null,
   "id": "0fb96550",
   "metadata": {},
   "outputs": [],
   "source": [
    "def all_uppercase(s):\n",
    "    return s.isupper()"
   ]
  },
  {
   "cell_type": "markdown",
   "id": "8273c247",
   "metadata": {
    "id": "bea983a3"
   },
   "source": [
    "### Exercise 15:\n",
    "Write a Python program that checks if a number is a multiple of 10.\n",
    "\n",
    "```python\n",
    "# Exercise 15\n",
    "```\n",
    "\n",
    "---"
   ]
  },
  {
   "cell_type": "code",
   "execution_count": 1,
   "id": "7bf0a603",
   "metadata": {},
   "outputs": [
    {
     "name": "stdout",
     "output_type": "stream",
     "text": [
      "Enter a number: 23\n",
      "Not a multiple of 10\n"
     ]
    }
   ],
   "source": [
    "num = int(input(\"Enter a number: \"))\n",
    "if num % 10 == 0:\n",
    "    print(\"Multiple of 10\")\n",
    "else:\n",
    "    print(\"Not a multiple of 10\")"
   ]
  },
  {
   "cell_type": "markdown",
   "id": "4ebddebd",
   "metadata": {
    "id": "bea983a3"
   },
   "source": [
    "### Exercise 16:\n",
    "Write a Python function that checks if a list contains any duplicates.\n",
    "\n",
    "```python\n",
    "# Exercise 16\n",
    "```\n",
    "\n",
    "---"
   ]
  },
  {
   "cell_type": "code",
   "execution_count": 6,
   "id": "f1200e99",
   "metadata": {},
   "outputs": [
    {
     "data": {
      "text/plain": [
       "True"
      ]
     },
     "execution_count": 6,
     "metadata": {},
     "output_type": "execute_result"
    }
   ],
   "source": [
    "def has_duplicates(my_list):\n",
    "    return len(my_list) != len(set(my_list))\n",
    "l=[1,2,2,3,4]\n",
    "has_duplicates(l)"
   ]
  },
  {
   "cell_type": "markdown",
   "id": "c0961693",
   "metadata": {
    "id": "bea983a3"
   },
   "source": [
    "### Exercise 17:\n",
    "Write a Python program that prints \"Teenager\" if the age is between 13 and 19, otherwise it prints \"Not a teenager.\"\n",
    "\n",
    "```python\n",
    "# Exercise 17\n",
    "```\n",
    "\n",
    "---"
   ]
  },
  {
   "cell_type": "code",
   "execution_count": 7,
   "id": "c74665b7",
   "metadata": {},
   "outputs": [
    {
     "name": "stdout",
     "output_type": "stream",
     "text": [
      "Enter age: 23\n",
      "Not a teenager\n"
     ]
    }
   ],
   "source": [
    "age = int(input(\"Enter age: \"))\n",
    "if 13 <= age <= 19:\n",
    "    print(\"Teenager\")\n",
    "else:\n",
    "    print(\"Not a teenager\")"
   ]
  },
  {
   "cell_type": "markdown",
   "id": "5702e2a1",
   "metadata": {
    "id": "bea983a3"
   },
   "source": [
    "### Exercise 18:\n",
    "Write a Python function that checks if a list contains an element greater than 100.\n",
    "\n",
    "```python\n",
    "# Exercise 18\n",
    "```\n",
    "\n",
    "---"
   ]
  },
  {
   "cell_type": "code",
   "execution_count": 9,
   "id": "84a31199",
   "metadata": {},
   "outputs": [
    {
     "data": {
      "text/plain": [
       "False"
      ]
     },
     "execution_count": 9,
     "metadata": {},
     "output_type": "execute_result"
    }
   ],
   "source": [
    "def has_greater_than_100(my_list):\n",
    "    return any(x > 100 for x in my_list)\n",
    "has_greater_than_100(l)"
   ]
  },
  {
   "cell_type": "markdown",
   "id": "89085393",
   "metadata": {
    "id": "bea983a3"
   },
   "source": [
    "### Exercise 19:\n",
    "Write a Python program that checks if a number is even or odd.\n",
    "\n",
    "```python\n",
    "# Exercise 19\n",
    "```\n",
    "\n",
    "---"
   ]
  },
  {
   "cell_type": "code",
   "execution_count": 10,
   "id": "7ff59865",
   "metadata": {},
   "outputs": [
    {
     "name": "stdout",
     "output_type": "stream",
     "text": [
      "Enter a number: 23\n",
      "Odd\n"
     ]
    }
   ],
   "source": [
    "num = int(input(\"Enter a number: \"))\n",
    "if num % 2 == 0:\n",
    "    print(\"Even\")\n",
    "else:\n",
    "    print(\"Odd\")"
   ]
  },
  {
   "cell_type": "markdown",
   "id": "2dd6f11e",
   "metadata": {
    "id": "bea983a3"
   },
   "source": [
    "### Exercise 20:\n",
    "Write a Python function that checks if a string ends with a punctuation mark.\n",
    "\n",
    "```python\n",
    "# Exercise 20\n",
    "```\n",
    "\n",
    "---"
   ]
  },
  {
   "cell_type": "code",
   "execution_count": null,
   "id": "4050fa50",
   "metadata": {},
   "outputs": [],
   "source": [
    "import string\n",
    "def ends_with_punctuation(s):\n",
    "    return bool(s) and s[-1] in string.punctuation"
   ]
  },
  {
   "cell_type": "markdown",
   "id": "838873e7",
   "metadata": {
    "id": "bea983a3"
   },
   "source": [
    "### Exercise 21:\n",
    "Write a Python program that prints \"Yes\" if the number is between 1 and 100, otherwise it prints \"No.\"\n",
    "\n",
    "```python\n",
    "# Exercise 21\n",
    "```\n",
    "\n",
    "---"
   ]
  },
  {
   "cell_type": "code",
   "execution_count": null,
   "id": "5e32d0d2",
   "metadata": {},
   "outputs": [],
   "source": [
    "num = int(input(\"Enter a number: \"))\n",
    "if 1 <= num <= 100:\n",
    "    print(\"Yes\")\n",
    "else:\n",
    "    print(\"No\")"
   ]
  },
  {
   "cell_type": "markdown",
   "id": "75fc572a",
   "metadata": {
    "id": "bea983a3"
   },
   "source": [
    "### Exercise 22:\n",
    "Write a Python program that checks if two strings have the same length.\n",
    "\n",
    "```python\n",
    "# Exercise 22\n",
    "```\n",
    "\n",
    "---"
   ]
  },
  {
   "cell_type": "code",
   "execution_count": null,
   "id": "8003d980",
   "metadata": {},
   "outputs": [],
   "source": [
    "s1 = input(\"Enter first string: \")\n",
    "s2 = input(\"Enter second string: \")\n",
    "if len(s1) == len(s2):\n",
    "    print(\"Same length\")\n",
    "else:\n",
    "    print(\"Different lengths\")"
   ]
  },
  {
   "cell_type": "markdown",
   "id": "42ed80f5",
   "metadata": {
    "id": "bea983a3"
   },
   "source": [
    "### Exercise 23:\n",
    "Write a Python function that checks if a number is greater than its reverse.\n",
    "\n",
    "```python\n",
    "# Exercise 23\n",
    "```\n",
    "\n",
    "---"
   ]
  },
  {
   "cell_type": "code",
   "execution_count": null,
   "id": "f28ddf90",
   "metadata": {},
   "outputs": [],
   "source": [
    "def greater_than_reverse(num):\n",
    "    rev = int(str(num)[::-1])\n",
    "    return num > rev"
   ]
  },
  {
   "cell_type": "markdown",
   "id": "333e54f8",
   "metadata": {
    "id": "bea983a3"
   },
   "source": [
    "### Exercise 24:\n",
    "Write a Python program that checks if a password contains both letters and numbers.\n",
    "\n",
    "```python\n",
    "# Exercise 24\n",
    "```\n",
    "\n",
    "---"
   ]
  },
  {
   "cell_type": "code",
   "execution_count": null,
   "id": "4c174efe",
   "metadata": {
    "id": "bea983a3"
   },
   "outputs": [],
   "source": [
    "password = input(\"Enter password: \")\n",
    "has_letter = any(c.isalpha() for c in password)\n",
    "has_number = any(c.isdigit() for c in password)\n",
    "if has_letter and has_number:\n",
    "    print(\"Valid\")\n",
    "else:\n",
    "    print(\"Invalid\")"
   ]
  },
  {
   "cell_type": "markdown",
   "id": "8a5ede94",
   "metadata": {
    "id": "bea983a3"
   },
   "source": [
    "### Exercise 25:\n",
    "Write a Python program that checks if a number is between two given numbers.\n",
    "\n",
    "```python\n",
    "# Exercise 25\n",
    "```\n",
    "\n",
    "---"
   ]
  },
  {
   "cell_type": "code",
   "execution_count": null,
   "id": "b5db204c",
   "metadata": {},
   "outputs": [],
   "source": [
    "num = int(input(\"Enter number: \"))\n",
    "a = int(input(\"Enter lower bound: \"))\n",
    "b = int(input(\"Enter upper bound: \"))\n",
    "if a < num < b:\n",
    "    print(\"Between\")\n",
    "else:\n",
    "    print(\"Not between\")"
   ]
  },
  {
   "cell_type": "markdown",
   "id": "b131a27b",
   "metadata": {
    "id": "bea983a3"
   },
   "source": [
    "### Exercise 26:\n",
    "Write a Python function that checks if all characters in a string are unique.\n",
    "\n",
    "```python\n",
    "# Exercise 26\n",
    "```\n",
    "\n",
    "---"
   ]
  },
  {
   "cell_type": "code",
   "execution_count": null,
   "id": "b4b6ddf5",
   "metadata": {},
   "outputs": [],
   "source": [
    "def all_unique(s):\n",
    "    return len(s) == len(set(s))"
   ]
  },
  {
   "cell_type": "markdown",
   "id": "74aa2d33",
   "metadata": {
    "id": "bea983a3"
   },
   "source": [
    "### Exercise 27:\n",
    "Write a Python program that checks if a number is a perfect square.\n",
    "\n",
    "```python\n",
    "# Exercise 27\n",
    "```\n",
    "\n",
    "---"
   ]
  },
  {
   "cell_type": "code",
   "execution_count": null,
   "id": "bf766f97",
   "metadata": {},
   "outputs": [],
   "source": [
    "import math\n",
    "num = int(input(\"Enter a number: \"))\n",
    "if math.isqrt(num) ** 2 == num:\n",
    "    print(\"Perfect square\")\n",
    "else:\n",
    "    print(\"Not a perfect square\")"
   ]
  },
  {
   "cell_type": "markdown",
   "id": "f32bdbf9",
   "metadata": {
    "id": "bea983a3"
   },
   "source": [
    "### Exercise 28:\n",
    "Write a Python function that checks if a word is a palindrome.\n",
    "\n",
    "```python\n",
    "# Exercise 28\n",
    "```\n",
    "\n",
    "---"
   ]
  },
  {
   "cell_type": "code",
   "execution_count": null,
   "id": "8aa1a7e7",
   "metadata": {},
   "outputs": [],
   "source": [
    "def is_palindrome(word):\n",
    "    return word == word[::-1]"
   ]
  },
  {
   "cell_type": "markdown",
   "id": "83fe4011",
   "metadata": {
    "id": "bea983a3"
   },
   "source": [
    "### Exercise 29:\n",
    "Write a Python program that prints \"Fizz\" if a number is divisible by 3, \"Buzz\" if it is divisible by 5, and \"FizzBuzz\" if divisible by both.\n",
    "\n",
    "```python\n",
    "# Exercise 29\n",
    "```\n",
    "\n",
    "---"
   ]
  },
  {
   "cell_type": "code",
   "execution_count": null,
   "id": "6732548f",
   "metadata": {},
   "outputs": [],
   "source": [
    "num = int(input(\"Enter a number: \"))\n",
    "digit_sum = sum(int(d) for d in str(num))\n",
    "if digit_sum % 2 == 0:\n",
    "    print(\"Even\")\n",
    "else:\n",
    "    print(\"Odd\")"
   ]
  },
  {
   "cell_type": "markdown",
   "id": "f6561ba9",
   "metadata": {
    "id": "bea983a3"
   },
   "source": [
    "### Exercise 30:\n",
    "Write a Python program that checks if the sum of the digits of a number is even.\n",
    "\n",
    "```python\n",
    "# Exercise 30\n",
    "```\n",
    "\n",
    "---"
   ]
  },
  {
   "cell_type": "code",
   "execution_count": null,
   "id": "746756f4",
   "metadata": {},
   "outputs": [],
   "source": [
    "num = int(input(\"Enter a number: \"))\n",
    "digit_sum = sum(int(d) for d in str(num))\n",
    "if digit_sum % 2 == 0:\n",
    "    print(\"Even\")\n",
    "else:\n",
    "    print(\"Odd\")"
   ]
  },
  {
   "cell_type": "markdown",
   "id": "3de9045e",
   "metadata": {
    "id": "bea983a3"
   },
   "source": [
    "### Exercise 31:\n",
    "Write a Python program that checks if a string is a valid email address.\n",
    "\n",
    "```python\n",
    "# Exercise 31\n",
    "```\n",
    "\n",
    "---"
   ]
  },
  {
   "cell_type": "code",
   "execution_count": null,
   "id": "06fa9088",
   "metadata": {},
   "outputs": [],
   "source": [
    "import re\n",
    "email = input(\"Enter email: \")\n",
    "if re.match(r\"[^@]+@[^@]+\\.[^@]+\", email):\n",
    "    print(\"Valid\")\n",
    "else:\n",
    "    print(\"Invalid\")"
   ]
  },
  {
   "cell_type": "markdown",
   "id": "edefeb7a",
   "metadata": {
    "id": "bea983a3"
   },
   "source": [
    "### Exercise 32:\n",
    "Write a Python function that checks if a number is within 10 of 100 or 200.\n",
    "\n",
    "```python\n",
    "# Exercise 32\n",
    "```\n",
    "\n",
    "---"
   ]
  },
  {
   "cell_type": "code",
   "execution_count": null,
   "id": "e507c879",
   "metadata": {},
   "outputs": [],
   "source": [
    "def within_10_of_100_or_200(num):\n",
    "    return abs(num - 100) <= 10 or abs(num - 200) <= 10"
   ]
  },
  {
   "cell_type": "markdown",
   "id": "6c1e98e5",
   "metadata": {
    "id": "bea983a3"
   },
   "source": [
    "### Exercise 33:\n",
    "Write a Python program that checks if a given string is a valid URL.\n",
    "\n",
    "```python\n",
    "# Exercise 33\n",
    "```\n",
    "\n",
    "---"
   ]
  },
  {
   "cell_type": "code",
   "execution_count": null,
   "id": "dbea537d",
   "metadata": {},
   "outputs": [],
   "source": [
    "import re\n",
    "url = input(\"Enter URL: \")\n",
    "if re.match(r\"https?://\\S+\", url):\n",
    "    print(\"Valid\")\n",
    "else:\n",
    "    print(\"Invalid\")"
   ]
  },
  {
   "cell_type": "markdown",
   "id": "ca2bd38b",
   "metadata": {
    "id": "bea983a3"
   },
   "source": [
    "### Exercise 34:\n",
    "Write a Python program that checks if a list contains all even numbers.\n",
    "\n",
    "```python\n",
    "# Exercise 34\n",
    "```\n",
    "\n",
    "---"
   ]
  },
  {
   "cell_type": "code",
   "execution_count": null,
   "id": "f5ebb1ee",
   "metadata": {},
   "outputs": [],
   "source": [
    "numbers = [2, 4, 6]  # Example\n",
    "if all(x % 2 == 0 for x in numbers):\n",
    "    print(\"All even\")\n",
    "else:\n",
    "    print(\"Not all even\")"
   ]
  },
  {
   "cell_type": "markdown",
   "id": "82e88ae8",
   "metadata": {
    "id": "bea983a3"
   },
   "source": [
    "### Exercise 35:\n",
    "Write a Python program that checks if a word is longer than a given length.\n",
    "\n",
    "```python\n",
    "# Exercise 35\n",
    "```\n",
    "\n",
    "---"
   ]
  },
  {
   "cell_type": "code",
   "execution_count": null,
   "id": "eec25dbf",
   "metadata": {},
   "outputs": [],
   "source": [
    "word = input(\"Enter word: \")\n",
    "length = int(input(\"Enter length: \"))\n",
    "if len(word) > length:\n",
    "    print(\"Longer\")\n",
    "else:\n",
    "    print(\"Not longer\")"
   ]
  },
  {
   "cell_type": "markdown",
   "id": "6d7645ab",
   "metadata": {
    "id": "bea983a3"
   },
   "source": [
    "### Exercise 36:\n",
    "Write a Python program that checks if a list contains only positive numbers.\n",
    "\n",
    "```python\n",
    "# Exercise 36\n",
    "```\n",
    "\n",
    "---"
   ]
  },
  {
   "cell_type": "code",
   "execution_count": null,
   "id": "4c87068b",
   "metadata": {},
   "outputs": [],
   "source": [
    "numbers = [1, 2, 3]  # Example\n",
    "if all(x > 0 for x in numbers):\n",
    "    print(\"All positive\")\n",
    "else:\n",
    "    print(\"Not all positive\")"
   ]
  },
  {
   "cell_type": "markdown",
   "id": "3ddf32fb",
   "metadata": {
    "id": "bea983a3"
   },
   "source": [
    "### Exercise 37:\n",
    "Write a Python function that checks if a year is a century year (i.e., divisible by 100).\n",
    "\n",
    "```python\n",
    "# Exercise 37\n",
    "```\n",
    "\n",
    "---"
   ]
  },
  {
   "cell_type": "code",
   "execution_count": null,
   "id": "2d7f8b0b",
   "metadata": {},
   "outputs": [],
   "source": [
    "def is_century_year(year):\n",
    "    return year % 100 == 0"
   ]
  },
  {
   "cell_type": "markdown",
   "id": "31567801",
   "metadata": {
    "id": "bea983a3"
   },
   "source": [
    "### Exercise 38:\n",
    "Write a Python program that checks if the sum of a list of numbers is greater than 100.\n",
    "\n",
    "```python\n",
    "# Exercise 38\n",
    "```\n",
    "\n",
    "---"
   ]
  },
  {
   "cell_type": "code",
   "execution_count": null,
   "id": "cc4086ac",
   "metadata": {},
   "outputs": [],
   "source": [
    "numbers = [10, 20, 30]  # Example\n",
    "if sum(numbers) > 100:\n",
    "    print(\"Greater than 100\")\n",
    "else:\n",
    "    print(\"Not greater\")"
   ]
  },
  {
   "cell_type": "markdown",
   "id": "2f1b814f",
   "metadata": {
    "id": "bea983a3"
   },
   "source": [
    "### Exercise 39:\n",
    "Write a Python function that checks if a given word is a substring of another string.\n",
    "\n",
    "```python\n",
    "# Exercise 39\n",
    "```\n",
    "\n",
    "---"
   ]
  },
  {
   "cell_type": "code",
   "execution_count": null,
   "id": "9e17bb3a",
   "metadata": {},
   "outputs": [],
   "source": [
    "def is_substring(word, s):\n",
    "    return word in s"
   ]
  },
  {
   "cell_type": "markdown",
   "id": "72fb06ad",
   "metadata": {
    "id": "bea983a3"
   },
   "source": [
    "### Exercise 40:\n",
    "Write a Python program that checks if a number is a power of 2.\n",
    "\n",
    "```python\n",
    "# Exercise 40\n",
    "```\n",
    "\n",
    "---"
   ]
  },
  {
   "cell_type": "code",
   "execution_count": null,
   "id": "a0c61d19",
   "metadata": {},
   "outputs": [],
   "source": [
    "def is_power_of_2(num):\n",
    "    return num > 0 and (num & (num - 1)) == 0"
   ]
  },
  {
   "cell_type": "markdown",
   "id": "b5c5c380",
   "metadata": {
    "id": "bea983a3"
   },
   "source": [
    "### Exercise 41:\n",
    "Write a Python function that checks if a string contains no spaces.\n",
    "\n",
    "```python\n",
    "# Exercise 41\n",
    "```"
   ]
  },
  {
   "cell_type": "code",
   "execution_count": null,
   "id": "c352879d",
   "metadata": {},
   "outputs": [],
   "source": [
    "s=\" hjsfd \"\n",
    "def no_spaces(s):\n",
    "    return ' ' not in s"
   ]
  },
  {
   "cell_type": "markdown",
   "id": "965631c8",
   "metadata": {
    "id": "bea983a3"
   },
   "source": [
    "---\n",
    "\n",
    "### Exercise 42:\n",
    "Write a Python program that prints \"Yes\" if a number is divisible by both 2 and 3, otherwise it prints \"No.\"\n",
    "\n",
    "```python\n",
    "# Exercise 42\n",
    "```\n",
    "\n",
    "---"
   ]
  },
  {
   "cell_type": "code",
   "execution_count": null,
   "id": "9a058541",
   "metadata": {},
   "outputs": [],
   "source": [
    "num = int(input(\"Enter number: \"))\n",
    "if num % 2 == 0 and num % 3 == 0:\n",
    "    print(\"Yes\")\n",
    "else:\n",
    "    print(\"No\")"
   ]
  },
  {
   "cell_type": "markdown",
   "id": "ada6930a",
   "metadata": {
    "id": "bea983a3"
   },
   "source": [
    "### Exercise 43:\n",
    "Write a Python program that checks if a number is a palindrome.\n",
    "\n",
    "```python\n",
    "# Exercise 43\n",
    "```\n",
    "\n",
    "---"
   ]
  },
  {
   "cell_type": "code",
   "execution_count": null,
   "id": "2afea6f1",
   "metadata": {},
   "outputs": [],
   "source": [
    "num = int(input(\"Enter number: \"))\n",
    "if str(num) == str(num)[::-1]:\n",
    "    print(\"Palindrome\")\n",
    "else:\n",
    "    print(\"Not palindrome\")"
   ]
  },
  {
   "cell_type": "markdown",
   "id": "213fe769",
   "metadata": {
    "id": "bea983a3"
   },
   "source": [
    "### Exercise 44:\n",
    "Write a Python function that checks if a string is made of only lowercase letters.\n",
    "\n",
    "```python\n",
    "# Exercise 44\n",
    "```\n",
    "\n",
    "---"
   ]
  },
  {
   "cell_type": "code",
   "execution_count": null,
   "id": "3785bc96",
   "metadata": {},
   "outputs": [],
   "source": [
    "s=\" hjsfd \"\n",
    "def all_lowercase(s):\n",
    "    return s.islower()"
   ]
  },
  {
   "cell_type": "markdown",
   "id": "bb878aeb",
   "metadata": {
    "id": "bea983a3"
   },
   "source": [
    "### Exercise 45:\n",
    "Write a Python program that checks if a string starts with a specific prefix.\n",
    "\n",
    "```python\n",
    "# Exercise 45\n",
    "```\n",
    "\n",
    "---"
   ]
  },
  {
   "cell_type": "code",
   "execution_count": null,
   "id": "fe7956ba",
   "metadata": {},
   "outputs": [],
   "source": [
    "s = input(\"Enter string: \")\n",
    "prefix = input(\"Enter prefix: \")\n",
    "if s.startswith(prefix):\n",
    "    print(\"Starts with prefix\")\n",
    "else:\n",
    "    print(\"Does not\")"
   ]
  },
  {
   "cell_type": "markdown",
   "id": "9aaf5a68",
   "metadata": {
    "id": "bea983a3"
   },
   "source": [
    "### Exercise 46:\n",
    "Write a Python function that checks if a number is divisible by any number in a given list.\n",
    "\n",
    "```python\n",
    "# Exercise 46\n",
    "```\n",
    "\n",
    "---"
   ]
  },
  {
   "cell_type": "code",
   "execution_count": null,
   "id": "c5000c04",
   "metadata": {},
   "outputs": [],
   "source": [
    "def divisible_by_any(num, divisors):\n",
    "    return any(num % d == 0 for d in divisors)"
   ]
  },
  {
   "cell_type": "markdown",
   "id": "9857f1de",
   "metadata": {
    "id": "bea983a3"
   },
   "source": [
    "### Exercise 47:\n",
    "Write a Python program that prints \"Yes\" if a string has more than one occurrence of the same letter.\n",
    "\n",
    "```python\n",
    "# Exercise 47\n",
    "```\n",
    "\n",
    "---"
   ]
  },
  {
   "cell_type": "code",
   "execution_count": null,
   "id": "e9c2b197",
   "metadata": {},
   "outputs": [],
   "source": [
    "s = input(\"Enter string: \")\n",
    "if len(s) != len(set(s)):\n",
    "    print(\"Yes\")\n",
    "else:\n",
    "    print(\"No\")"
   ]
  },
  {
   "cell_type": "markdown",
   "id": "4fe2e4fe",
   "metadata": {
    "id": "bea983a3"
   },
   "source": [
    "### Exercise 48:\n",
    "Write a Python function that checks if a number is prime by dividing it by numbers up to its square root.\n",
    "\n",
    "```python\n",
    "# Exercise 48\n",
    "```\n",
    "\n",
    "---"
   ]
  },
  {
   "cell_type": "code",
   "execution_count": null,
   "id": "53e4ffb9",
   "metadata": {},
   "outputs": [],
   "source": [
    "import math\n",
    "def is_prime(num):\n",
    "    if num <= 1:\n",
    "        return False\n",
    "    for i in range(2, int(math.sqrt(num)) + 1):\n",
    "        if num % i == 0:\n",
    "            return False\n",
    "    return True"
   ]
  },
  {
   "cell_type": "markdown",
   "id": "0bb9c514",
   "metadata": {
    "id": "bea983a3"
   },
   "source": [
    "### Exercise 49:\n",
    "Write a Python program that checks if a number is within 1 of a multiple of 10.\n",
    "\n",
    "```python\n",
    "# Exercise 49\n",
    "```\n",
    "\n",
    "---"
   ]
  },
  {
   "cell_type": "code",
   "execution_count": null,
   "id": "30d68654",
   "metadata": {},
   "outputs": [],
   "source": [
    "num = int(input(\"Enter number: \"))\n",
    "if (num % 10 == 0 or num % 10 == 9 or num % 10 == 1):\n",
    "    if num % 10 == 1 and (num - 1) % 10 == 0 or num % 10 == 9 and (num + 1) % 10 == 0 or num % 10 == 0:\n",
    "        print(\"Within 1 of multiple of 10\")\n",
    "else:\n",
    "    print(\"Not\")"
   ]
  },
  {
   "cell_type": "markdown",
   "id": "131a1c78",
   "metadata": {
    "id": "bea983a3"
   },
   "source": [
    "### Exercise 50:\n",
    "Write a Python program that prints \"In range\" if a number is between 10 and 20 (inclusive), otherwise it prints \"Out of range.\"\n",
    "\n",
    "```python\n",
    "# Exercise 50\n",
    "```\n",
    "\n",
    "---"
   ]
  },
  {
   "cell_type": "code",
   "execution_count": null,
   "id": "c5e6e0d3",
   "metadata": {
    "id": "bea983a3"
   },
   "outputs": [],
   "source": [
    "num = int(input(\"Enter number: \"))\n",
    "if 10 <= num <= 20:\n",
    "    print(\"In range\")\n",
    "else:\n",
    "    print(\"Out of range\")"
   ]
  }
 ],
 "metadata": {
  "colab": {
   "provenance": []
  },
  "kernelspec": {
   "display_name": "Python 3 (ipykernel)",
   "language": "python",
   "name": "python3"
  },
  "language_info": {
   "codemirror_mode": {
    "name": "ipython",
    "version": 3
   },
   "file_extension": ".py",
   "mimetype": "text/x-python",
   "name": "python",
   "nbconvert_exporter": "python",
   "pygments_lexer": "ipython3",
   "version": "3.10.12"
  }
 },
 "nbformat": 4,
 "nbformat_minor": 5
}
