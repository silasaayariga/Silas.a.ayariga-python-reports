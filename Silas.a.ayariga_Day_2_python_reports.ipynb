{
 "cells": [
  {
   "cell_type": "code",
   "execution_count": 10,
   "id": "458c3b04",
   "metadata": {},
   "outputs": [
    {
     "name": "stdout",
     "output_type": "stream",
     "text": [
      "10\n"
     ]
    }
   ],
   "source": [
    "camara = 10\n",
    "print(camara)"
   ]
  },
  {
   "cell_type": "code",
   "execution_count": 9,
   "id": "ba0bd7fc",
   "metadata": {},
   "outputs": [
    {
     "name": "stdout",
     "output_type": "stream",
     "text": [
      "True\n"
     ]
    }
   ],
   "source": [
    "is_valid =True\n",
    "print(is_valid)\n"
   ]
  },
  {
   "cell_type": "code",
   "execution_count": 4,
   "id": "76e801a0",
   "metadata": {},
   "outputs": [],
   "source": [
    "name= \"Python Programming\""
   ]
  },
  {
   "cell_type": "code",
   "execution_count": 8,
   "id": "093b79b4",
   "metadata": {},
   "outputs": [
    {
     "name": "stdout",
     "output_type": "stream",
     "text": [
      "8\n"
     ]
    }
   ],
   "source": [
    "sum_result = 5+3\n",
    "print(sum_result)"
   ]
  },
  {
   "cell_type": "code",
   "execution_count": 7,
   "id": "4dde7136",
   "metadata": {},
   "outputs": [
    {
     "name": "stdout",
     "output_type": "stream",
     "text": [
      "5 10 15\n"
     ]
    }
   ],
   "source": [
    "a, b , c = 5, 10,15\n",
    "print(a,b,c)"
   ]
  },
  {
   "cell_type": "code",
   "execution_count": 11,
   "id": "bcb729ec",
   "metadata": {},
   "outputs": [
    {
     "name": "stdout",
     "output_type": "stream",
     "text": [
      "5 5\n"
     ]
    }
   ],
   "source": [
    "x=5\n",
    "y=6\n",
    "y=x\n",
    "print(x,y)"
   ]
  },
  {
   "cell_type": "code",
   "execution_count": 12,
   "id": "4941b780",
   "metadata": {},
   "outputs": [
    {
     "name": "stdout",
     "output_type": "stream",
     "text": [
      "9.8\n"
     ]
    }
   ],
   "source": [
    "gravity=9.8\n",
    "print(gravity)"
   ]
  },
  {
   "cell_type": "code",
   "execution_count": 13,
   "id": "e2e1f6fe",
   "metadata": {},
   "outputs": [
    {
     "name": "stdout",
     "output_type": "stream",
     "text": [
      "Ghana\n"
     ]
    }
   ],
   "source": [
    "country = \"Ghana\"\n",
    "print(country)"
   ]
  },
  {
   "cell_type": "code",
   "execution_count": 15,
   "id": "2a571e7a",
   "metadata": {},
   "outputs": [
    {
     "data": {
      "text/plain": [
       "26"
      ]
     },
     "execution_count": 15,
     "metadata": {},
     "output_type": "execute_result"
    }
   ],
   "source": [
    "age = 25\n",
    "age =26\n",
    "age"
   ]
  },
  {
   "cell_type": "code",
   "execution_count": 16,
   "id": "6ca0e835",
   "metadata": {},
   "outputs": [],
   "source": [
    "subtract = 20-7"
   ]
  },
  {
   "cell_type": "code",
   "execution_count": 18,
   "id": "261cd183",
   "metadata": {},
   "outputs": [],
   "source": [
    "inte =100\n",
    "flot = 10.3"
   ]
  },
  {
   "cell_type": "code",
   "execution_count": null,
   "id": "ca66025c",
   "metadata": {},
   "outputs": [],
   "source": [
    "is_completed=False"
   ]
  },
  {
   "cell_type": "code",
   "execution_count": 19,
   "id": "aa882e7c",
   "metadata": {},
   "outputs": [
    {
     "name": "stdout",
     "output_type": "stream",
     "text": [
      "1300 12\n"
     ]
    }
   ],
   "source": [
    "x=12\n",
    "y=1300\n",
    "n=12\n",
    "x=y\n",
    "y=n\n",
    "print(x,y)"
   ]
  },
  {
   "cell_type": "code",
   "execution_count": 22,
   "id": "faefa611",
   "metadata": {},
   "outputs": [
    {
     "data": {
      "text/plain": [
       "(3+4j)"
      ]
     },
     "execution_count": 22,
     "metadata": {},
     "output_type": "execute_result"
    }
   ],
   "source": [
    "complex_num = 3+4j\n",
    "complex_num"
   ]
  },
  {
   "cell_type": "code",
   "execution_count": 29,
   "id": "266f1260",
   "metadata": {},
   "outputs": [
    {
     "data": {
      "text/plain": [
       "'23'"
      ]
     },
     "execution_count": 29,
     "metadata": {},
     "output_type": "execute_result"
    }
   ],
   "source": [
    " we= str(23)\n",
    "we"
   ]
  },
  {
   "cell_type": "code",
   "execution_count": 32,
   "id": "de88af02",
   "metadata": {},
   "outputs": [
    {
     "name": "stdout",
     "output_type": "stream",
     "text": [
      "Silas Ayariga\n"
     ]
    }
   ],
   "source": [
    "first_name = \"Silas\" \n",
    "last_name= \"Ayariga\"\n",
    "print(first_name ,last_name)"
   ]
  },
  {
   "cell_type": "code",
   "execution_count": 33,
   "id": "3b8aed7a",
   "metadata": {},
   "outputs": [],
   "source": [
    "temperature = 35.5"
   ]
  },
  {
   "cell_type": "code",
   "execution_count": 35,
   "id": "43a87355",
   "metadata": {},
   "outputs": [
    {
     "name": "stdout",
     "output_type": "stream",
     "text": [
      "48\n"
     ]
    }
   ],
   "source": [
    "product = 8 * 6\n",
    "print(product)"
   ]
  },
  {
   "cell_type": "code",
   "execution_count": 37,
   "id": "fc020c22",
   "metadata": {},
   "outputs": [
    {
     "name": "stdout",
     "output_type": "stream",
     "text": [
      "I am an answer from GOD\n"
     ]
    }
   ],
   "source": [
    "sentence = \"I am an answer from GOD\"\n",
    "print(sentence)"
   ]
  },
  {
   "cell_type": "code",
   "execution_count": 39,
   "id": "d36fe8c2",
   "metadata": {},
   "outputs": [
    {
     "data": {
      "text/plain": [
       "50"
      ]
     },
     "execution_count": 39,
     "metadata": {},
     "output_type": "execute_result"
    }
   ],
   "source": [
    "int_value = int('50')\n",
    "int_value"
   ]
  },
  {
   "cell_type": "code",
   "execution_count": 41,
   "id": "6d9ff986",
   "metadata": {},
   "outputs": [
    {
     "name": "stdout",
     "output_type": "stream",
     "text": [
      "12.0\n"
     ]
    }
   ],
   "source": [
    "quotient = 144/12\n",
    "print(quotient)"
   ]
  },
  {
   "cell_type": "code",
   "execution_count": 46,
   "id": "3c4f04bf",
   "metadata": {},
   "outputs": [
    {
     "name": "stdout",
     "output_type": "stream",
     "text": [
      "2\n"
     ]
    }
   ],
   "source": [
    "remainder= 47%5\n",
    "print(remainder)"
   ]
  },
  {
   "cell_type": "code",
   "execution_count": 47,
   "id": "179e01e6",
   "metadata": {},
   "outputs": [
    {
     "name": "stdout",
     "output_type": "stream",
     "text": [
      "True\n"
     ]
    }
   ],
   "source": [
    "is_student = True\n",
    "print(is_student)"
   ]
  },
  {
   "cell_type": "code",
   "execution_count": 48,
   "id": "06954a09",
   "metadata": {},
   "outputs": [
    {
     "name": "stdout",
     "output_type": "stream",
     "text": [
      "1\n"
     ]
    }
   ],
   "source": [
    "mod= 45 % 4\n",
    "print(mod)"
   ]
  },
  {
   "cell_type": "code",
   "execution_count": 49,
   "id": "135dcf3c",
   "metadata": {},
   "outputs": [
    {
     "name": "stdout",
     "output_type": "stream",
     "text": [
      "3.14159\n"
     ]
    }
   ],
   "source": [
    "pi= 3.14159\n",
    "print(pi)"
   ]
  },
  {
   "cell_type": "code",
   "execution_count": 51,
   "id": "b98f1055",
   "metadata": {},
   "outputs": [
    {
     "name": "stdout",
     "output_type": "stream",
     "text": [
      "76\n"
     ]
    }
   ],
   "source": [
    "length= 18\n",
    "width = 20\n",
    "area_rect = 2*length +2*width\n",
    "print(area_rect)"
   ]
  },
  {
   "cell_type": "code",
   "execution_count": 53,
   "id": "c1c09d7a",
   "metadata": {},
   "outputs": [
    {
     "name": "stdout",
     "output_type": "stream",
     "text": [
      "-10000\n"
     ]
    }
   ],
   "source": [
    "negative_value = -10000\n",
    "print(negative_value)"
   ]
  },
  {
   "cell_type": "code",
   "execution_count": 55,
   "id": "21d09cae",
   "metadata": {},
   "outputs": [
    {
     "name": "stdout",
     "output_type": "stream",
     "text": [
      "Hello, World!\n"
     ]
    }
   ],
   "source": [
    "greeting = \"Hello, World!\"\n",
    "print(greeting)"
   ]
  },
  {
   "cell_type": "code",
   "execution_count": 57,
   "id": "779f9c48",
   "metadata": {},
   "outputs": [
    {
     "name": "stdout",
     "output_type": "stream",
     "text": [
      "10000000000\n"
     ]
    }
   ],
   "source": [
    "population= 10000000000\n",
    "print(population)"
   ]
  },
  {
   "cell_type": "code",
   "execution_count": 59,
   "id": "39ea73d8",
   "metadata": {},
   "outputs": [
    {
     "name": "stdout",
     "output_type": "stream",
     "text": [
      "256\n"
     ]
    }
   ],
   "source": [
    "exp = 2**8\n",
    "print(exp)"
   ]
  },
  {
   "cell_type": "code",
   "execution_count": 60,
   "id": "9f02b86f",
   "metadata": {},
   "outputs": [
    {
     "name": "stdout",
     "output_type": "stream",
     "text": [
      "['apple', 'pineapple', 'orange', 'banana']\n"
     ]
    }
   ],
   "source": [
    "fruits = [\"apple\",\"pineapple\",\"orange\", \"banana\"]\n",
    "print(fruits)"
   ]
  },
  {
   "cell_type": "code",
   "execution_count": 65,
   "id": "43840998",
   "metadata": {},
   "outputs": [
    {
     "name": "stdout",
     "output_type": "stream",
     "text": [
      "(2, 3, 5)\n"
     ]
    }
   ],
   "source": [
    "coordinates =(2,3,5)\n",
    "print(coordinates)"
   ]
  },
  {
   "cell_type": "code",
   "execution_count": 70,
   "id": "ae52a302",
   "metadata": {},
   "outputs": [
    {
     "name": "stdout",
     "output_type": "stream",
     "text": [
      "{'name': ['silas'], 'Age': 25}\n"
     ]
    }
   ],
   "source": [
    "person = {\"name\":[\"silas\"],\"Age\":25}\n",
    "print(person)"
   ]
  },
  {
   "cell_type": "code",
   "execution_count": 72,
   "id": "38b04428",
   "metadata": {},
   "outputs": [
    {
     "name": "stdout",
     "output_type": "stream",
     "text": [
      "53.745\n"
     ]
    }
   ],
   "source": [
    "float1= 23.4\n",
    "float2 =30.345\n",
    "sum_float = float1+float2\n",
    "print(sum_float)\n"
   ]
  },
  {
   "cell_type": "code",
   "execution_count": 74,
   "id": "1fe54c22",
   "metadata": {},
   "outputs": [
    {
     "name": "stdout",
     "output_type": "stream",
     "text": [
      "True\n"
     ]
    }
   ],
   "source": [
    "is_sunny = 10>5\n",
    "print(is_sunny)"
   ]
  },
  {
   "cell_type": "code",
   "execution_count": 76,
   "id": "2d2ab82c",
   "metadata": {},
   "outputs": [
    {
     "name": "stdout",
     "output_type": "stream",
     "text": [
      "2345 2345.2\n"
     ]
    }
   ],
   "source": [
    "intr = 2345\n",
    "stri = 2345.2\n",
    "print(intr,stri)"
   ]
  },
  {
   "cell_type": "code",
   "execution_count": 78,
   "id": "2f855b7c",
   "metadata": {},
   "outputs": [
    {
     "name": "stdout",
     "output_type": "stream",
     "text": [
      "True\n"
     ]
    }
   ],
   "source": [
    "orig = 34\n",
    "booli = bool(orig)\n",
    "print(booli)"
   ]
  },
  {
   "cell_type": "code",
   "execution_count": 79,
   "id": "82212bca",
   "metadata": {},
   "outputs": [
    {
     "name": "stdout",
     "output_type": "stream",
     "text": [
      "False\n"
     ]
    }
   ],
   "source": [
    "is_weekend = False\n",
    "print(is_weekend)"
   ]
  },
  {
   "cell_type": "code",
   "execution_count": 92,
   "id": "3874d146",
   "metadata": {},
   "outputs": [
    {
     "data": {
      "text/plain": [
       "'descr \\niption'"
      ]
     },
     "execution_count": 92,
     "metadata": {},
     "output_type": "execute_result"
    }
   ],
   "source": [
    "mlt = '''descr \n",
    "iption'''\n",
    "\n",
    "mlt"
   ]
  },
  {
   "cell_type": "code",
   "execution_count": 94,
   "id": "2f9f0c52",
   "metadata": {},
   "outputs": [
    {
     "name": "stdout",
     "output_type": "stream",
     "text": [
      "25\n"
     ]
    }
   ],
   "source": [
    "abso = abs(-25)\n",
    "print(abso)"
   ]
  },
  {
   "cell_type": "code",
   "execution_count": 95,
   "id": "249c7f38",
   "metadata": {},
   "outputs": [],
   "source": [
    "floor_div_result = 10//6"
   ]
  },
  {
   "cell_type": "code",
   "execution_count": 96,
   "id": "751ee646",
   "metadata": {},
   "outputs": [],
   "source": [
    "mixed_sum = 10.45+24"
   ]
  },
  {
   "cell_type": "code",
   "execution_count": 98,
   "id": "4fa74ebf",
   "metadata": {},
   "outputs": [
    {
     "name": "stdout",
     "output_type": "stream",
     "text": [
      "False\n"
     ]
    }
   ],
   "source": [
    "a = 10 \n",
    "b = 15\n",
    "comp = a>b\n",
    "print(comp)"
   ]
  },
  {
   "cell_type": "code",
   "execution_count": 100,
   "id": "c27897b7",
   "metadata": {},
   "outputs": [
    {
     "data": {
      "text/plain": [
       "95"
      ]
     },
     "execution_count": 100,
     "metadata": {},
     "output_type": "execute_result"
    }
   ],
   "source": [
    "variable = \" I am the God who qsa who is and is to come.Th e name of Jesus is greater than every other name\"\n",
    "len(variable)"
   ]
  },
  {
   "cell_type": "code",
   "execution_count": 102,
   "id": "23892218",
   "metadata": {},
   "outputs": [
    {
     "name": "stdout",
     "output_type": "stream",
     "text": [
      "2.3333333333333335\n"
     ]
    }
   ],
   "source": [
    "division_result = 7/3\n",
    "print(division_result)"
   ]
  },
  {
   "cell_type": "code",
   "execution_count": 103,
   "id": "d4b0f2d1",
   "metadata": {},
   "outputs": [],
   "source": [
    "speed = \"100 km/h\""
   ]
  },
  {
   "cell_type": "code",
   "execution_count": 104,
   "id": "e4454ec8",
   "metadata": {},
   "outputs": [],
   "source": [
    "x = 4 \n",
    "y = 3*x + 5 "
   ]
  },
  {
   "cell_type": "code",
   "execution_count": 110,
   "id": "74f4178f",
   "metadata": {},
   "outputs": [
    {
     "name": "stdout",
     "output_type": "stream",
     "text": [
      "21344.333333333332\n"
     ]
    }
   ],
   "source": [
    "var1= 234\n",
    "var2 = 345\n",
    "var3 = 63454\n",
    "average = (var1+var2+var3)/3\n",
    "print(average)"
   ]
  }
 ],
 "metadata": {
  "kernelspec": {
   "display_name": "Python 3 (ipykernel)",
   "language": "python",
   "name": "python3"
  },
  "language_info": {
   "codemirror_mode": {
    "name": "ipython",
    "version": 3
   },
   "file_extension": ".py",
   "mimetype": "text/x-python",
   "name": "python",
   "nbconvert_exporter": "python",
   "pygments_lexer": "ipython3",
   "version": "3.10.12"
  }
 },
 "nbformat": 4,
 "nbformat_minor": 5
}
